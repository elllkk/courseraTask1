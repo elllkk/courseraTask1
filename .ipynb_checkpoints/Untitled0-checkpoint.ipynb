{
 "metadata": {
  "name": "",
  "signature": "sha256:8f1d37ce7977db73469924f35a7a931b685c6132ae08d687ad15be44a88bec59"
 },
 "nbformat": 3,
 "nbformat_minor": 0,
 "worksheets": [
  {
   "cells": [
    {
     "cell_type": "code",
     "collapsed": false,
     "input": [
      "import os\n",
      "os.listdir('.')"
     ],
     "language": "python",
     "metadata": {},
     "outputs": [
      {
       "metadata": {},
       "output_type": "pyout",
       "prompt_number": 4,
       "text": [
        "['.ipynb_checkpoints',\n",
        " '_3a8d746cf4d86fba2f31586f239d11fd_sentences.txt',\n",
        " 'Untitled0.ipynb']"
       ]
      }
     ],
     "prompt_number": 4
    },
    {
     "cell_type": "code",
     "collapsed": false,
     "input": [
      "import numpy as np\n",
      "import scipy\n",
      "from scipy import spatial\n",
      "import re\n",
      "import urllib\n",
      "f = open('_3a8d746cf4d86fba2f31586f239d11fd_sentences.txt','r')\n",
      "s = 'null'\n",
      "arr = ''\n",
      "n = -1\n",
      "strS = []\n",
      "\n",
      "#2\n",
      "while (s != ''):\n",
      "    s = f.readline()\n",
      "    strS.append(re.split('[^a-z]', s.lower()))\n",
      "    arr += s.lower()\n",
      "    n += 1\n",
      "#2\n",
      "f.close()\n",
      "#3\n",
      "arr = re.split('[^a-z]', arr)\n",
      "#3\n",
      "\n",
      "#4\n",
      "arr.reverse()\n",
      "for a in arr:\n",
      "    while (arr.count(a) > 1):\n",
      "        arr.remove(a)\n",
      "arr.reverse()\n",
      "arr.remove('')\n",
      "d = len(arr)\n",
      "\n",
      "dic = {}\n",
      "for i in range(d):\n",
      "   dic[i] = arr[i]\n",
      "#4\n",
      "\n",
      "#5\n",
      "mat = [0] * n\n",
      "for i in range(n):\n",
      "    mat[i] = [0] * d\n",
      "    \n",
      "for i  in range (n):\n",
      "    for j in range (d):\n",
      "        mat[i][j] = strS[i].count(dic[j])\n",
      "\n",
      "mat = np.array(mat)\n",
      "#print(dic)\n",
      "#print(mat[1])\n",
      "cosines = []\n",
      "for i in range (1,n):\n",
      "    cosines.append(scipy.spatial.distance.cosine(mat[0],mat[i]))\n",
      "\n",
      "print(cosines)\n",
      "\n",
      "#cosines.sort()\n",
      "dictt = {}\n",
      "cosines.reverse()\n",
      "for i in range (1, len(cosines)):\n",
      "    temp = cosines.pop()\n",
      "    dictt[temp] = i\n",
      "    cosines.insert(0,temp)\n",
      "print(dictt)\n",
      "cosines.sort()\n",
      "w = open('task1.txt','w')\n",
      "#w.write(str(dictt[cosines[0]]) + ' ' + str(dictt[cosines[1]]))\n",
      "#5\n",
      "w.close()\n",
      "print(str(dictt[cosines[0]]) + ' ' + str(dictt[cosines[1]]))"
     ],
     "language": "python",
     "metadata": {},
     "outputs": [
      {
       "output_type": "stream",
       "stream": "stdout",
       "text": [
        "[0.9534757894800765, 0.86447381456421235, 0.89517151632780823, 0.77708871496985887, 0.94023856953328033, 0.7327387580875756, 0.92587506833388988, 0.88427248752843102, 0.90695157896015288, 0.83281653622739416, 0.88335763129603917, 0.84275727449171223, 0.87035925528956715, 0.88603942354036203, 0.94427217874246472, 0.84063618542208085, 0.95664450152379399, 0.94427217874246472, 0.88854435748492944, 0.84275727449171223, 0.82503644694405864]\n",
        "{0.92587506833388988: 7, 0.9534757894800765: 1, 0.88427248752843102: 8, 0.88335763129603917: 11, 0.90695157896015288: 9, 0.94427217874246472: 18, 0.94023856953328033: 5, 0.84275727449171223: 20, 0.95664450152379399: 17, 0.84063618542208085: 16, 0.89517151632780823: 3, 0.87035925528956715: 13, 0.86447381456421235: 2, 0.7327387580875756: 6, 0.88854435748492944: 19, 0.88603942354036203: 14, 0.77708871496985887: 4, 0.83281653622739416: 10}\n",
        "6 4\n"
       ]
      }
     ],
     "prompt_number": 20
    },
    {
     "cell_type": "code",
     "collapsed": false,
     "input": [],
     "language": "python",
     "metadata": {},
     "outputs": []
    }
   ],
   "metadata": {}
  }
 ]
}